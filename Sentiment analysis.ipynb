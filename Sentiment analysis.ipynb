{
 "cells": [
  {
   "cell_type": "code",
   "execution_count": 48,
   "metadata": {},
   "outputs": [
    {
     "data": {
      "text/plain": [
       "[OrderedDict([('username;date;retweets;favorites;text;geo;mentions;hashtags;id;permalink;',\n",
       "               'NoticiasAirSim;28/7/18 0:12;0;3;Jajaja'),\n",
       "              (None,\n",
       "               [' bueno',\n",
       "                ' la suerte de poder escucharle por VATSIM =P;;;;1',\n",
       "                '02297E+18;https://twitter.com/NoticiasAirSim/status/1022967996833251335;'])]),\n",
       " OrderedDict([('username;date;retweets;favorites;text;geo;mentions;hashtags;id;permalink;',\n",
       "               'NoticiasAirSim;28/7/18 0:10;2;3;El de salida LEMD'),\n",
       "              (None,\n",
       "               [' que adem??s nos lo hemos encontrado en frecuencia mientras estaba con un alumno en LECU en @ vatsimSpain y el de llegada dir?_a LEPA =P;;@;;1',\n",
       "                '02297E+18;https://twitter.com/NoticiasAirSim/status/1022967542237863936;'])]),\n",
       " OrderedDict([('username;date;retweets;favorites;text;geo;mentions;hashtags;id;permalink;',\n",
       "               'NoticiasAirSim;27/7/18 23:46;1;2;Muy buena filosof?_a en la formaci?_n. Buen tiempo de respuesta'),\n",
       "              (None,\n",
       "               [' buenos recursos',\n",
       "                ' buena flexibilidad y sin prisas',\n",
       "                ' el tiempo y explicaciones necesarias para entender las cosas bien. Como siempre',\n",
       "                ' recomendable probar VATSIM 100%;;;;1',\n",
       "                '02296E+18;https://twitter.com/NoticiasAirSim/status/1022961426762293248;'])])]"
      ]
     },
     "execution_count": 48,
     "metadata": {},
     "output_type": "execute_result"
    }
   ],
   "source": [
    "import csv\n",
    "\n",
    "%precision 2\n",
    "\n",
    "with open(\"AirSim_IVAO.csv\", encoding='ISO 8859-2', newline='\\n') as csvFile:\n",
    "    mpg = list(csv.DictReader(csvFile))\n",
    "    \n",
    "mpg[:3]\n"
   ]
  },
  {
   "cell_type": "code",
   "execution_count": 51,
   "metadata": {},
   "outputs": [
    {
     "data": {
      "text/plain": [
       "OrderedDict([('username;date;retweets;favorites;text;geo;mentions;hashtags;id;permalink;',\n",
       "              'NoticiasAirSim;28/7/18 0:12;0;3;Jajaja'),\n",
       "             (None,\n",
       "              [' bueno',\n",
       "               ' la suerte de poder escucharle por VATSIM =P;;;;1',\n",
       "               '02297E+18;https://twitter.com/NoticiasAirSim/status/1022967996833251335;'])])"
      ]
     },
     "execution_count": 51,
     "metadata": {},
     "output_type": "execute_result"
    }
   ],
   "source": [
    "mpg[0]"
   ]
  },
  {
   "cell_type": "code",
   "execution_count": 50,
   "metadata": {},
   "outputs": [
    {
     "ename": "KeyError",
     "evalue": "'text'",
     "output_type": "error",
     "traceback": [
      "\u001b[0;31m---------------------------------------------------------------------------\u001b[0m",
      "\u001b[0;31mKeyError\u001b[0m                                  Traceback (most recent call last)",
      "\u001b[0;32m<ipython-input-50-a49e861bc3af>\u001b[0m in \u001b[0;36m<module>\u001b[0;34m()\u001b[0m\n\u001b[0;32m----> 1\u001b[0;31m \u001b[0mtweets\u001b[0m \u001b[0;34m=\u001b[0m \u001b[0mset\u001b[0m\u001b[0;34m(\u001b[0m\u001b[0md\u001b[0m\u001b[0;34m[\u001b[0m\u001b[0;34m'text'\u001b[0m\u001b[0;34m]\u001b[0m \u001b[0;32mfor\u001b[0m \u001b[0md\u001b[0m \u001b[0;32min\u001b[0m \u001b[0mmpg\u001b[0m\u001b[0;34m)\u001b[0m\u001b[0;34m\u001b[0m\u001b[0m\n\u001b[0m\u001b[1;32m      2\u001b[0m \u001b[0mtweets\u001b[0m\u001b[0;34m\u001b[0m\u001b[0m\n",
      "\u001b[0;32m<ipython-input-50-a49e861bc3af>\u001b[0m in \u001b[0;36m<genexpr>\u001b[0;34m(.0)\u001b[0m\n\u001b[0;32m----> 1\u001b[0;31m \u001b[0mtweets\u001b[0m \u001b[0;34m=\u001b[0m \u001b[0mset\u001b[0m\u001b[0;34m(\u001b[0m\u001b[0md\u001b[0m\u001b[0;34m[\u001b[0m\u001b[0;34m'text'\u001b[0m\u001b[0;34m]\u001b[0m \u001b[0;32mfor\u001b[0m \u001b[0md\u001b[0m \u001b[0;32min\u001b[0m \u001b[0mmpg\u001b[0m\u001b[0;34m)\u001b[0m\u001b[0;34m\u001b[0m\u001b[0m\n\u001b[0m\u001b[1;32m      2\u001b[0m \u001b[0mtweets\u001b[0m\u001b[0;34m\u001b[0m\u001b[0m\n",
      "\u001b[0;31mKeyError\u001b[0m: 'text'"
     ]
    }
   ],
   "source": [
    "tweets = set(d['text'] for d in mpg)\n",
    "tweets"
   ]
  },
  {
   "cell_type": "code",
   "execution_count": null,
   "metadata": {},
   "outputs": [],
   "source": []
  },
  {
   "cell_type": "code",
   "execution_count": null,
   "metadata": {},
   "outputs": [],
   "source": []
  }
 ],
 "metadata": {
  "kernelspec": {
   "display_name": "Python 3",
   "language": "python",
   "name": "python3"
  },
  "language_info": {
   "codemirror_mode": {
    "name": "ipython",
    "version": 3
   },
   "file_extension": ".py",
   "mimetype": "text/x-python",
   "name": "python",
   "nbconvert_exporter": "python",
   "pygments_lexer": "ipython3",
   "version": "3.6.5"
  }
 },
 "nbformat": 4,
 "nbformat_minor": 2
}
